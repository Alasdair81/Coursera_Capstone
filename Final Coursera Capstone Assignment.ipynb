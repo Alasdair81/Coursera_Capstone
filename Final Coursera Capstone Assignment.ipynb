{
 "cells": [
  {
   "cell_type": "markdown",
   "metadata": {},
   "source": [
    "<h1>Peer-graded Assignment: Capstone Project - The Battle of Neighborhoods (Week 1). </h1>"
   ]
  },
  {
   "cell_type": "markdown",
   "metadata": {},
   "source": [
    "<h2>A description of the problem and a discussion of the background. (15 marks) </h2>"
   ]
  },
  {
   "cell_type": "markdown",
   "metadata": {},
   "source": [
    "<h5>The business problem is that I want to expand a pizza restaurant business to 5 new areas in London, UK. I want to recommend to management the best 10 postcode areas to explore based on the following criteria:<h5>\n",
    "    \n",
    "1. The number of other pizza restaurants in the same postcode area (to be clear, I want there to be some pizza restaurants to indicate that there is some demand for the category, but not too many which would indicate that the competition is too fierce.)\n",
    "    \n",
    "2. The number of other restaurants in the area (to be clear, I want there to be some restaurants to indicate demand, but not too many, indicating fierce competition.)\n",
    "    \n",
    "3. I would like to understand the average rating of pizza restaurants in the area - to establish if I believe that I can beat the competition from a quality perspective.\n",
    "\n",
    "\n",
    "Based on the modeling I will identify the target 10 areas for investigation and the  next steps will be to identify specific locations, rental and fitout costs and demand estimates to select the final 5 proposed locations."
   ]
  },
  {
   "cell_type": "markdown",
   "metadata": {},
   "source": [
    "<h2>Data Sources<h2>\n",
    "    \n",
    "<h5>1. Postcode information with geo-co-ordinates can be sourced from <a href=\"https://www.doogal.co.uk/AdministrativeAreas.php?district=E09000001\">HERE</a> and can be downloaded in a CSV format.\n",
    "    \n",
    "<h5>2. The number of other restaurants and the number of pizza restaurants alongside average ratings will be sourced from the Foursquare API.<h5>\n",
    "    \n",
    "    \n",
    "\n",
    "<h2>Approach<h2>\n",
    "<h5>1. The postcode data will be wrangled into a dataframe - including only live postal codes and their geo-co-ordinates from a .csv file.\n",
    "<h5>2. For each live postcode, data will be called from the Foursquare API with the number of pizza restaurants, restaurants and ratings  \n",
    "<h5>3. The number of pizza restaurants and overall restaurants will be further analyzed using clustering in order to categorize the understand the level and quality of the competition \n",
    "<h5>4. Based on the output the postcodes will be ranked and the top 10 selected for further investigation."
   ]
  },
  {
   "cell_type": "code",
   "execution_count": null,
   "metadata": {},
   "outputs": [],
   "source": []
  }
 ],
 "metadata": {
  "kernelspec": {
   "display_name": "Python",
   "language": "python",
   "name": "conda-env-python-py"
  },
  "language_info": {
   "codemirror_mode": {
    "name": "ipython",
    "version": 3
   },
   "file_extension": ".py",
   "mimetype": "text/x-python",
   "name": "python",
   "nbconvert_exporter": "python",
   "pygments_lexer": "ipython3",
   "version": "3.6.10"
  }
 },
 "nbformat": 4,
 "nbformat_minor": 4
}
